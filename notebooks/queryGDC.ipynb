{
 "cells": [
  {
   "cell_type": "code",
   "execution_count": 1,
   "id": "color-preliminary",
   "metadata": {},
   "outputs": [],
   "source": [
    "import requests\n",
    "import json\n",
    "import sys\n",
    "import pandas as pd\n",
    "from io import StringIO"
   ]
  },
  {
   "cell_type": "code",
   "execution_count": 2,
   "id": "rough-puppy",
   "metadata": {},
   "outputs": [],
   "source": [
    "primary_site = \"breast\"\n",
    "sample_type = \"primary tumor\""
   ]
  },
  {
   "cell_type": "code",
   "execution_count": 3,
   "id": "bigger-austin",
   "metadata": {},
   "outputs": [],
   "source": [
    "fields = [\n",
    "    \"cases.case_id\",\n",
    "    \"annotations.entity_id\",\n",
    "    \"file_name\"\n",
    "    ]\n",
    "\n",
    "fields = \",\".join(fields)"
   ]
  },
  {
   "cell_type": "code",
   "execution_count": 4,
   "id": "driving-result",
   "metadata": {},
   "outputs": [],
   "source": [
    "files_endpt = \"https://api.gdc.cancer.gov/files\"\n",
    "manifest_endpt = \"https://api.gdc.cancer.gov/manifest\""
   ]
  },
  {
   "cell_type": "code",
   "execution_count": 5,
   "id": "constant-cassette",
   "metadata": {},
   "outputs": [],
   "source": [
    "filters = {\n",
    "    \"op\": \"and\",\n",
    "    \"content\":[\n",
    "        {\n",
    "        \"op\": \"in\",\n",
    "        \"content\":{\n",
    "            \"field\": \"cases.project.primary_site\",\n",
    "            \"value\": [primary_site]\n",
    "            }\n",
    "        },\n",
    "        {\n",
    "        \"op\": \"in\",\n",
    "        \"content\":{\n",
    "            \"field\": \"cases.samples.sample_type\",\n",
    "            \"value\": [sample_type]\n",
    "            }\n",
    "        },\n",
    "        {\n",
    "        \"op\": \"in\",\n",
    "        \"content\":{\n",
    "            \"field\": \"files.analysis.workflow_type\",\n",
    "            \"value\": [\"ASCAT2\"]\n",
    "            }\n",
    "        },\n",
    "        {\n",
    "        \"op\": \"in\",\n",
    "        \"content\":{\n",
    "            \"field\": \"files.data_type\",\n",
    "            \"value\": [\"Gene Level Copy Number\"]\n",
    "            }\n",
    "        }\n",
    "    ]\n",
    "}\n"
   ]
  },
  {
   "cell_type": "code",
   "execution_count": 6,
   "id": "encouraging-russian",
   "metadata": {},
   "outputs": [],
   "source": [
    "params = {\n",
    "    \"filters\": json.dumps(filters),\n",
    "    \"fields\": fields,\n",
    "    \"format\": \"tsv\",\n",
    "    \"size\": \"2000\"\n",
    "    }"
   ]
  },
  {
   "cell_type": "code",
   "execution_count": 7,
   "id": "english-software",
   "metadata": {},
   "outputs": [],
   "source": [
    "# Getting ASCAT2 data\n",
    "response = requests.get(files_endpt, params = params)\n",
    "data = response.content.decode(\"utf-8\")"
   ]
  },
  {
   "cell_type": "code",
   "execution_count": 8,
   "id": "caring-crime",
   "metadata": {},
   "outputs": [],
   "source": [
    "df_ascat = pd.read_csv(StringIO(data), sep =\"\\t\")"
   ]
  },
  {
   "cell_type": "code",
   "execution_count": 9,
   "id": "permanent-spotlight",
   "metadata": {},
   "outputs": [
    {
     "data": {
      "text/html": [
       "<div>\n",
       "<style scoped>\n",
       "    .dataframe tbody tr th:only-of-type {\n",
       "        vertical-align: middle;\n",
       "    }\n",
       "\n",
       "    .dataframe tbody tr th {\n",
       "        vertical-align: top;\n",
       "    }\n",
       "\n",
       "    .dataframe thead th {\n",
       "        text-align: right;\n",
       "    }\n",
       "</style>\n",
       "<table border=\"1\" class=\"dataframe\">\n",
       "  <thead>\n",
       "    <tr style=\"text-align: right;\">\n",
       "      <th></th>\n",
       "      <th>annotations.0.entity_id</th>\n",
       "      <th>annotations.1.entity_id</th>\n",
       "      <th>cases.0.case_id</th>\n",
       "      <th>file_name</th>\n",
       "      <th>id</th>\n",
       "    </tr>\n",
       "  </thead>\n",
       "  <tbody>\n",
       "    <tr>\n",
       "      <th>0</th>\n",
       "      <td>NaN</td>\n",
       "      <td>NaN</td>\n",
       "      <td>0f64edec-0f1f-4025-8a53-75f9534f7828</td>\n",
       "      <td>TCGA-BRCA.2db50b93-b544-42c8-9c6b-39bcfe870324...</td>\n",
       "      <td>9db19d5d-e73f-4b28-8770-721d54c3d1a1</td>\n",
       "    </tr>\n",
       "    <tr>\n",
       "      <th>1</th>\n",
       "      <td>NaN</td>\n",
       "      <td>NaN</td>\n",
       "      <td>8db69f1d-72e2-40ba-ad8a-cf228499840d</td>\n",
       "      <td>TCGA-BRCA.03fd168b-3ada-472c-89a9-33dae1531fc3...</td>\n",
       "      <td>b2308547-14bd-4ea2-9572-27631c4f4b0d</td>\n",
       "    </tr>\n",
       "    <tr>\n",
       "      <th>2</th>\n",
       "      <td>NaN</td>\n",
       "      <td>NaN</td>\n",
       "      <td>da70cf7e-0e61-4c72-b4c5-c408569d11b8</td>\n",
       "      <td>TCGA-BRCA.23d1f5b1-6b5f-45f3-b30a-b6b04692ba68...</td>\n",
       "      <td>d662dc08-1ac2-4b2e-bc0a-3268d0f6179e</td>\n",
       "    </tr>\n",
       "    <tr>\n",
       "      <th>3</th>\n",
       "      <td>NaN</td>\n",
       "      <td>NaN</td>\n",
       "      <td>4b0d295c-e185-4b52-9752-178e5bc1d47d</td>\n",
       "      <td>TCGA-BRCA.0f68f8f1-514a-41b6-bf5a-87792ef5a50f...</td>\n",
       "      <td>6e458ea0-7e2b-43ef-8108-80369f9d05b6</td>\n",
       "    </tr>\n",
       "    <tr>\n",
       "      <th>4</th>\n",
       "      <td>NaN</td>\n",
       "      <td>NaN</td>\n",
       "      <td>2c86c3ea-d926-4d39-a5ae-39ece4774287</td>\n",
       "      <td>TCGA-BRCA.6c71c171-be2a-4eac-bae9-841c1192ab61...</td>\n",
       "      <td>7f6dd6a3-9798-4507-8fba-f3a84002a736</td>\n",
       "    </tr>\n",
       "  </tbody>\n",
       "</table>\n",
       "</div>"
      ],
      "text/plain": [
       "  annotations.0.entity_id annotations.1.entity_id  \\\n",
       "0                     NaN                     NaN   \n",
       "1                     NaN                     NaN   \n",
       "2                     NaN                     NaN   \n",
       "3                     NaN                     NaN   \n",
       "4                     NaN                     NaN   \n",
       "\n",
       "                        cases.0.case_id  \\\n",
       "0  0f64edec-0f1f-4025-8a53-75f9534f7828   \n",
       "1  8db69f1d-72e2-40ba-ad8a-cf228499840d   \n",
       "2  da70cf7e-0e61-4c72-b4c5-c408569d11b8   \n",
       "3  4b0d295c-e185-4b52-9752-178e5bc1d47d   \n",
       "4  2c86c3ea-d926-4d39-a5ae-39ece4774287   \n",
       "\n",
       "                                           file_name  \\\n",
       "0  TCGA-BRCA.2db50b93-b544-42c8-9c6b-39bcfe870324...   \n",
       "1  TCGA-BRCA.03fd168b-3ada-472c-89a9-33dae1531fc3...   \n",
       "2  TCGA-BRCA.23d1f5b1-6b5f-45f3-b30a-b6b04692ba68...   \n",
       "3  TCGA-BRCA.0f68f8f1-514a-41b6-bf5a-87792ef5a50f...   \n",
       "4  TCGA-BRCA.6c71c171-be2a-4eac-bae9-841c1192ab61...   \n",
       "\n",
       "                                     id  \n",
       "0  9db19d5d-e73f-4b28-8770-721d54c3d1a1  \n",
       "1  b2308547-14bd-4ea2-9572-27631c4f4b0d  \n",
       "2  d662dc08-1ac2-4b2e-bc0a-3268d0f6179e  \n",
       "3  6e458ea0-7e2b-43ef-8108-80369f9d05b6  \n",
       "4  7f6dd6a3-9798-4507-8fba-f3a84002a736  "
      ]
     },
     "execution_count": 9,
     "metadata": {},
     "output_type": "execute_result"
    }
   ],
   "source": [
    "df_ascat.head()"
   ]
  },
  {
   "cell_type": "code",
   "execution_count": 23,
   "id": "muslim-height",
   "metadata": {},
   "outputs": [
    {
     "data": {
      "text/plain": [
       "(1077, 5)"
      ]
     },
     "execution_count": 23,
     "metadata": {},
     "output_type": "execute_result"
    }
   ],
   "source": [
    "df_ascat.shape"
   ]
  },
  {
   "cell_type": "code",
   "execution_count": 16,
   "id": "residential-advocate",
   "metadata": {},
   "outputs": [
    {
     "data": {
      "text/html": [
       "<div>\n",
       "<style scoped>\n",
       "    .dataframe tbody tr th:only-of-type {\n",
       "        vertical-align: middle;\n",
       "    }\n",
       "\n",
       "    .dataframe tbody tr th {\n",
       "        vertical-align: top;\n",
       "    }\n",
       "\n",
       "    .dataframe thead th {\n",
       "        text-align: right;\n",
       "    }\n",
       "</style>\n",
       "<table border=\"1\" class=\"dataframe\">\n",
       "  <thead>\n",
       "    <tr style=\"text-align: right;\">\n",
       "      <th></th>\n",
       "      <th>annotations.0.entity_id</th>\n",
       "      <th>annotations.1.entity_id</th>\n",
       "      <th>cases.0.case_id</th>\n",
       "      <th>file_name</th>\n",
       "      <th>id</th>\n",
       "    </tr>\n",
       "  </thead>\n",
       "  <tbody>\n",
       "    <tr>\n",
       "      <th>52</th>\n",
       "      <td>a9b81daa-0f0b-450a-b02b-b936bddb95e2</td>\n",
       "      <td>NaN</td>\n",
       "      <td>39de7761-e762-4811-b95c-8216b79ae06b</td>\n",
       "      <td>TCGA-BRCA.742b1f3f-a199-4dac-8d56-82db36855633...</td>\n",
       "      <td>9770b998-8816-4d41-8dce-b32f00d044a9</td>\n",
       "    </tr>\n",
       "    <tr>\n",
       "      <th>56</th>\n",
       "      <td>6255148d-b5ba-4987-99bb-7d3533409e73</td>\n",
       "      <td>NaN</td>\n",
       "      <td>955d4263-61f7-42e8-8a6e-772a0d6c209d</td>\n",
       "      <td>TCGA-BRCA.e52f1f1f-dfed-49b5-a7f2-f81e0af3c810...</td>\n",
       "      <td>c585518c-6193-40f1-9cfa-f63f41d19373</td>\n",
       "    </tr>\n",
       "    <tr>\n",
       "      <th>57</th>\n",
       "      <td>c1cfdf6c-d30b-49c8-9875-d39d65e925b5</td>\n",
       "      <td>NaN</td>\n",
       "      <td>89128dba-403f-4a96-bb3b-23ed0d5e2147</td>\n",
       "      <td>TCGA-BRCA.9ca918d1-dde6-4812-b6b8-05a6fb2332c3...</td>\n",
       "      <td>a4653b72-9c2c-4a90-afdc-d8953a0d53fc</td>\n",
       "    </tr>\n",
       "    <tr>\n",
       "      <th>60</th>\n",
       "      <td>0cc10a1e-a90a-4c55-87a2-a74d47474a4a</td>\n",
       "      <td>NaN</td>\n",
       "      <td>1502c7d7-1535-4e56-9f34-30623acd50d5</td>\n",
       "      <td>TCGA-BRCA.89a93ef7-73a7-451f-9c83-251b827f02c6...</td>\n",
       "      <td>d5f1da45-d7df-41ae-941e-00611dccbbc9</td>\n",
       "    </tr>\n",
       "    <tr>\n",
       "      <th>92</th>\n",
       "      <td>14b95463-2108-4921-afc2-e29eef52b18f</td>\n",
       "      <td>14b95463-2108-4921-afc2-e29eef52b18f</td>\n",
       "      <td>14b95463-2108-4921-afc2-e29eef52b18f</td>\n",
       "      <td>TCGA-BRCA.0b6fed27-b3fc-4078-a9d3-e766d718c19b...</td>\n",
       "      <td>41c1a603-6565-4b56-99f1-fb8df39c7bcc</td>\n",
       "    </tr>\n",
       "    <tr>\n",
       "      <th>...</th>\n",
       "      <td>...</td>\n",
       "      <td>...</td>\n",
       "      <td>...</td>\n",
       "      <td>...</td>\n",
       "      <td>...</td>\n",
       "    </tr>\n",
       "    <tr>\n",
       "      <th>1022</th>\n",
       "      <td>5f903bcb-f85c-498c-9ca1-08f3962aded2</td>\n",
       "      <td>NaN</td>\n",
       "      <td>9e3de467-fb0d-4021-89f8-b34968a7c7bc</td>\n",
       "      <td>TCGA-BRCA.101abe3f-d317-4f8b-9b20-042da3d22457...</td>\n",
       "      <td>1d19d9c1-345c-4015-939f-630466fc1eef</td>\n",
       "    </tr>\n",
       "    <tr>\n",
       "      <th>1024</th>\n",
       "      <td>3dbe99d1-e3b8-4ee2-b6a8-2e2e12c6fbe9</td>\n",
       "      <td>3dbe99d1-e3b8-4ee2-b6a8-2e2e12c6fbe9</td>\n",
       "      <td>3dbe99d1-e3b8-4ee2-b6a8-2e2e12c6fbe9</td>\n",
       "      <td>TCGA-BRCA.5b2d8ac0-cdb6-486f-bbad-3555c216ab0a...</td>\n",
       "      <td>d134e790-82b5-4e78-817f-46a0e753ae80</td>\n",
       "    </tr>\n",
       "    <tr>\n",
       "      <th>1031</th>\n",
       "      <td>02f5ae33-a563-4ecb-9e33-dfa500a44931</td>\n",
       "      <td>NaN</td>\n",
       "      <td>02f5ae33-a563-4ecb-9e33-dfa500a44931</td>\n",
       "      <td>TCGA-BRCA.66c6efd3-406c-4b96-ac62-b570d161c825...</td>\n",
       "      <td>04354a53-dc96-4b45-b841-d2f370d90cfe</td>\n",
       "    </tr>\n",
       "    <tr>\n",
       "      <th>1039</th>\n",
       "      <td>44e34ec8-b65b-451c-aea9-89a6537bc689</td>\n",
       "      <td>NaN</td>\n",
       "      <td>398fb71b-ca83-44e7-bf0d-b1ca464b0283</td>\n",
       "      <td>TCGA-BRCA.98c2fa71-63aa-4bfe-b49e-41aa4abdb391...</td>\n",
       "      <td>cecbd337-ad19-46b0-90fa-720a04b8c4fa</td>\n",
       "    </tr>\n",
       "    <tr>\n",
       "      <th>1072</th>\n",
       "      <td>04727f81-231a-4f9d-80ab-7fd3d3564a98</td>\n",
       "      <td>NaN</td>\n",
       "      <td>e8ea576b-eb16-44f7-b241-daefc1375388</td>\n",
       "      <td>TCGA-BRCA.317d4bae-a933-41ef-ab8a-d4fbb6de5285...</td>\n",
       "      <td>a26f28c7-1e9a-4f90-9b41-0ae13e88f339</td>\n",
       "    </tr>\n",
       "  </tbody>\n",
       "</table>\n",
       "<p>76 rows × 5 columns</p>\n",
       "</div>"
      ],
      "text/plain": [
       "                   annotations.0.entity_id  \\\n",
       "52    a9b81daa-0f0b-450a-b02b-b936bddb95e2   \n",
       "56    6255148d-b5ba-4987-99bb-7d3533409e73   \n",
       "57    c1cfdf6c-d30b-49c8-9875-d39d65e925b5   \n",
       "60    0cc10a1e-a90a-4c55-87a2-a74d47474a4a   \n",
       "92    14b95463-2108-4921-afc2-e29eef52b18f   \n",
       "...                                    ...   \n",
       "1022  5f903bcb-f85c-498c-9ca1-08f3962aded2   \n",
       "1024  3dbe99d1-e3b8-4ee2-b6a8-2e2e12c6fbe9   \n",
       "1031  02f5ae33-a563-4ecb-9e33-dfa500a44931   \n",
       "1039  44e34ec8-b65b-451c-aea9-89a6537bc689   \n",
       "1072  04727f81-231a-4f9d-80ab-7fd3d3564a98   \n",
       "\n",
       "                   annotations.1.entity_id  \\\n",
       "52                                     NaN   \n",
       "56                                     NaN   \n",
       "57                                     NaN   \n",
       "60                                     NaN   \n",
       "92    14b95463-2108-4921-afc2-e29eef52b18f   \n",
       "...                                    ...   \n",
       "1022                                   NaN   \n",
       "1024  3dbe99d1-e3b8-4ee2-b6a8-2e2e12c6fbe9   \n",
       "1031                                   NaN   \n",
       "1039                                   NaN   \n",
       "1072                                   NaN   \n",
       "\n",
       "                           cases.0.case_id  \\\n",
       "52    39de7761-e762-4811-b95c-8216b79ae06b   \n",
       "56    955d4263-61f7-42e8-8a6e-772a0d6c209d   \n",
       "57    89128dba-403f-4a96-bb3b-23ed0d5e2147   \n",
       "60    1502c7d7-1535-4e56-9f34-30623acd50d5   \n",
       "92    14b95463-2108-4921-afc2-e29eef52b18f   \n",
       "...                                    ...   \n",
       "1022  9e3de467-fb0d-4021-89f8-b34968a7c7bc   \n",
       "1024  3dbe99d1-e3b8-4ee2-b6a8-2e2e12c6fbe9   \n",
       "1031  02f5ae33-a563-4ecb-9e33-dfa500a44931   \n",
       "1039  398fb71b-ca83-44e7-bf0d-b1ca464b0283   \n",
       "1072  e8ea576b-eb16-44f7-b241-daefc1375388   \n",
       "\n",
       "                                              file_name  \\\n",
       "52    TCGA-BRCA.742b1f3f-a199-4dac-8d56-82db36855633...   \n",
       "56    TCGA-BRCA.e52f1f1f-dfed-49b5-a7f2-f81e0af3c810...   \n",
       "57    TCGA-BRCA.9ca918d1-dde6-4812-b6b8-05a6fb2332c3...   \n",
       "60    TCGA-BRCA.89a93ef7-73a7-451f-9c83-251b827f02c6...   \n",
       "92    TCGA-BRCA.0b6fed27-b3fc-4078-a9d3-e766d718c19b...   \n",
       "...                                                 ...   \n",
       "1022  TCGA-BRCA.101abe3f-d317-4f8b-9b20-042da3d22457...   \n",
       "1024  TCGA-BRCA.5b2d8ac0-cdb6-486f-bbad-3555c216ab0a...   \n",
       "1031  TCGA-BRCA.66c6efd3-406c-4b96-ac62-b570d161c825...   \n",
       "1039  TCGA-BRCA.98c2fa71-63aa-4bfe-b49e-41aa4abdb391...   \n",
       "1072  TCGA-BRCA.317d4bae-a933-41ef-ab8a-d4fbb6de5285...   \n",
       "\n",
       "                                        id  \n",
       "52    9770b998-8816-4d41-8dce-b32f00d044a9  \n",
       "56    c585518c-6193-40f1-9cfa-f63f41d19373  \n",
       "57    a4653b72-9c2c-4a90-afdc-d8953a0d53fc  \n",
       "60    d5f1da45-d7df-41ae-941e-00611dccbbc9  \n",
       "92    41c1a603-6565-4b56-99f1-fb8df39c7bcc  \n",
       "...                                    ...  \n",
       "1022  1d19d9c1-345c-4015-939f-630466fc1eef  \n",
       "1024  d134e790-82b5-4e78-817f-46a0e753ae80  \n",
       "1031  04354a53-dc96-4b45-b841-d2f370d90cfe  \n",
       "1039  cecbd337-ad19-46b0-90fa-720a04b8c4fa  \n",
       "1072  a26f28c7-1e9a-4f90-9b41-0ae13e88f339  \n",
       "\n",
       "[76 rows x 5 columns]"
      ]
     },
     "execution_count": 16,
     "metadata": {},
     "output_type": "execute_result"
    }
   ],
   "source": [
    "df_ascat.loc[df_ascat[\"annotations.0.entity_id\"].notnull(), ]"
   ]
  },
  {
   "cell_type": "code",
   "execution_count": 13,
   "id": "relative-allah",
   "metadata": {},
   "outputs": [
    {
     "data": {
      "text/plain": [
       "0        True\n",
       "1        True\n",
       "2        True\n",
       "3        True\n",
       "4        True\n",
       "        ...  \n",
       "1072    False\n",
       "1073     True\n",
       "1074     True\n",
       "1075     True\n",
       "1076     True\n",
       "Name: annotations.0.entity_id, Length: 1077, dtype: bool"
      ]
     },
     "execution_count": 13,
     "metadata": {},
     "output_type": "execute_result"
    }
   ],
   "source": [
    "df_ascat[\"annotations.0.entity_id\"].isnull()"
   ]
  },
  {
   "cell_type": "code",
   "execution_count": 21,
   "id": "contrary-progressive",
   "metadata": {},
   "outputs": [
    {
     "data": {
      "text/plain": [
       "(10, 5)"
      ]
     },
     "execution_count": 21,
     "metadata": {},
     "output_type": "execute_result"
    }
   ],
   "source": [
    "df_ascat.loc[df_ascat[\"cases.0.case_id\"].duplicated(), ].shape"
   ]
  },
  {
   "cell_type": "code",
   "execution_count": 22,
   "id": "italic-balance",
   "metadata": {},
   "outputs": [],
   "source": [
    "filters[\"content\"][2][\"content\"][\"value\"] = \"HTSeq - Counts\"\n",
    "filters[\"content\"][3][\"content\"][\"value\"] = \"Gene Expression Quantification\""
   ]
  },
  {
   "cell_type": "code",
   "execution_count": 24,
   "id": "powered-chest",
   "metadata": {},
   "outputs": [],
   "source": [
    "params = {\n",
    "    \"filters\": json.dumps(filters),\n",
    "    \"fields\": fields,\n",
    "    \"format\": \"tsv\",\n",
    "    \"size\": \"2000\"\n",
    "    }\n",
    "\n",
    "response = requests.get(files_endpt, params = params)\n",
    "data = response.content.decode(\"utf-8\")"
   ]
  },
  {
   "cell_type": "code",
   "execution_count": 25,
   "id": "statutory-bracelet",
   "metadata": {},
   "outputs": [],
   "source": [
    "df_rna = pd.read_csv(StringIO(data), sep =\"\\t\")"
   ]
  },
  {
   "cell_type": "code",
   "execution_count": 26,
   "id": "outside-authority",
   "metadata": {},
   "outputs": [
    {
     "data": {
      "text/html": [
       "<div>\n",
       "<style scoped>\n",
       "    .dataframe tbody tr th:only-of-type {\n",
       "        vertical-align: middle;\n",
       "    }\n",
       "\n",
       "    .dataframe tbody tr th {\n",
       "        vertical-align: top;\n",
       "    }\n",
       "\n",
       "    .dataframe thead th {\n",
       "        text-align: right;\n",
       "    }\n",
       "</style>\n",
       "<table border=\"1\" class=\"dataframe\">\n",
       "  <thead>\n",
       "    <tr style=\"text-align: right;\">\n",
       "      <th></th>\n",
       "      <th>annotations.0.entity_id</th>\n",
       "      <th>annotations.1.entity_id</th>\n",
       "      <th>cases.0.case_id</th>\n",
       "      <th>file_name</th>\n",
       "      <th>id</th>\n",
       "    </tr>\n",
       "  </thead>\n",
       "  <tbody>\n",
       "    <tr>\n",
       "      <th>0</th>\n",
       "      <td>NaN</td>\n",
       "      <td>NaN</td>\n",
       "      <td>65077db7-dd59-4362-9d28-d5a9154e9be0</td>\n",
       "      <td>a8a58442-78f5-4876-b25e-c04339eb6f26.htseq.cou...</td>\n",
       "      <td>dce06602-a4bc-4103-915a-c9475f157006</td>\n",
       "    </tr>\n",
       "    <tr>\n",
       "      <th>1</th>\n",
       "      <td>NaN</td>\n",
       "      <td>NaN</td>\n",
       "      <td>a8f5c479-8685-4e2d-bb60-63f1cc651083</td>\n",
       "      <td>3c631c4d-ec26-4f29-abcb-bed2221f3da5.htseq.cou...</td>\n",
       "      <td>5395a29c-2349-44c1-bd68-b3989d4799b2</td>\n",
       "    </tr>\n",
       "    <tr>\n",
       "      <th>2</th>\n",
       "      <td>NaN</td>\n",
       "      <td>NaN</td>\n",
       "      <td>5580b21a-2cdb-4777-ad79-6e06654144f5</td>\n",
       "      <td>1c903a79-fbee-47a4-8847-79d9242a2fcf.htseq.cou...</td>\n",
       "      <td>aad765b7-ce4e-4c72-8518-3aff0dced551</td>\n",
       "    </tr>\n",
       "    <tr>\n",
       "      <th>3</th>\n",
       "      <td>NaN</td>\n",
       "      <td>NaN</td>\n",
       "      <td>3a711140-1b89-4611-9992-3861e3d0e01a</td>\n",
       "      <td>ca5d0721-99cf-4b7c-b708-6acea2ae86bd.htseq.cou...</td>\n",
       "      <td>0cbfcb99-93ca-46bb-ab4d-3dcccee62cd0</td>\n",
       "    </tr>\n",
       "    <tr>\n",
       "      <th>4</th>\n",
       "      <td>NaN</td>\n",
       "      <td>NaN</td>\n",
       "      <td>cdd8c046-fd97-482a-a11f-2217b321c4d1</td>\n",
       "      <td>47af78ae-c41a-401f-a88b-d7e35831f816.htseq.cou...</td>\n",
       "      <td>2edb7e13-2356-4654-a324-6c032ec2acd4</td>\n",
       "    </tr>\n",
       "  </tbody>\n",
       "</table>\n",
       "</div>"
      ],
      "text/plain": [
       "  annotations.0.entity_id annotations.1.entity_id  \\\n",
       "0                     NaN                     NaN   \n",
       "1                     NaN                     NaN   \n",
       "2                     NaN                     NaN   \n",
       "3                     NaN                     NaN   \n",
       "4                     NaN                     NaN   \n",
       "\n",
       "                        cases.0.case_id  \\\n",
       "0  65077db7-dd59-4362-9d28-d5a9154e9be0   \n",
       "1  a8f5c479-8685-4e2d-bb60-63f1cc651083   \n",
       "2  5580b21a-2cdb-4777-ad79-6e06654144f5   \n",
       "3  3a711140-1b89-4611-9992-3861e3d0e01a   \n",
       "4  cdd8c046-fd97-482a-a11f-2217b321c4d1   \n",
       "\n",
       "                                           file_name  \\\n",
       "0  a8a58442-78f5-4876-b25e-c04339eb6f26.htseq.cou...   \n",
       "1  3c631c4d-ec26-4f29-abcb-bed2221f3da5.htseq.cou...   \n",
       "2  1c903a79-fbee-47a4-8847-79d9242a2fcf.htseq.cou...   \n",
       "3  ca5d0721-99cf-4b7c-b708-6acea2ae86bd.htseq.cou...   \n",
       "4  47af78ae-c41a-401f-a88b-d7e35831f816.htseq.cou...   \n",
       "\n",
       "                                     id  \n",
       "0  dce06602-a4bc-4103-915a-c9475f157006  \n",
       "1  5395a29c-2349-44c1-bd68-b3989d4799b2  \n",
       "2  aad765b7-ce4e-4c72-8518-3aff0dced551  \n",
       "3  0cbfcb99-93ca-46bb-ab4d-3dcccee62cd0  \n",
       "4  2edb7e13-2356-4654-a324-6c032ec2acd4  "
      ]
     },
     "execution_count": 26,
     "metadata": {},
     "output_type": "execute_result"
    }
   ],
   "source": [
    "df_rna.head()"
   ]
  },
  {
   "cell_type": "code",
   "execution_count": 27,
   "id": "inner-blowing",
   "metadata": {},
   "outputs": [
    {
     "data": {
      "text/plain": [
       "(1102, 5)"
      ]
     },
     "execution_count": 27,
     "metadata": {},
     "output_type": "execute_result"
    }
   ],
   "source": [
    "df_rna.shape"
   ]
  },
  {
   "cell_type": "code",
   "execution_count": 29,
   "id": "legislative-milan",
   "metadata": {},
   "outputs": [
    {
     "data": {
      "text/plain": [
       "(32, 5)"
      ]
     },
     "execution_count": 29,
     "metadata": {},
     "output_type": "execute_result"
    }
   ],
   "source": [
    "df_rna.loc[df_rna[\"annotations.0.entity_id\"].notnull(), ].shape"
   ]
  },
  {
   "cell_type": "code",
   "execution_count": 31,
   "id": "marine-beverage",
   "metadata": {},
   "outputs": [
    {
     "data": {
      "text/plain": [
       "(11, 5)"
      ]
     },
     "execution_count": 31,
     "metadata": {},
     "output_type": "execute_result"
    }
   ],
   "source": [
    "df_rna.loc[df_rna[\"cases.0.case_id\"].duplicated(), ].shape"
   ]
  },
  {
   "cell_type": "code",
   "execution_count": 36,
   "id": "distinguished-violin",
   "metadata": {},
   "outputs": [
    {
     "data": {
      "text/plain": [
       "(1091, 5)"
      ]
     },
     "execution_count": 36,
     "metadata": {},
     "output_type": "execute_result"
    }
   ],
   "source": [
    "df_rna.drop_duplicates(subset=[\"cases.0.case_id\"]).shape"
   ]
  },
  {
   "cell_type": "code",
   "execution_count": 34,
   "id": "handmade-february",
   "metadata": {},
   "outputs": [
    {
     "data": {
      "text/plain": [
       "array(['65077db7-dd59-4362-9d28-d5a9154e9be0',\n",
       "       'a8f5c479-8685-4e2d-bb60-63f1cc651083',\n",
       "       '5580b21a-2cdb-4777-ad79-6e06654144f5', ...,\n",
       "       '994ca1f5-ad10-44ec-aa21-71fc2940653b',\n",
       "       '955d4263-61f7-42e8-8a6e-772a0d6c209d',\n",
       "       'f9eb88f7-9293-46bf-ace4-a746e4ff80dc'], dtype=object)"
      ]
     },
     "execution_count": 34,
     "metadata": {},
     "output_type": "execute_result"
    }
   ],
   "source": [
    "df_rna[\"cases.0.case_id\"].unique()"
   ]
  }
 ],
 "metadata": {
  "kernelspec": {
   "display_name": "Python 3",
   "language": "python",
   "name": "python3"
  },
  "language_info": {
   "codemirror_mode": {
    "name": "ipython",
    "version": 3
   },
   "file_extension": ".py",
   "mimetype": "text/x-python",
   "name": "python",
   "nbconvert_exporter": "python",
   "pygments_lexer": "ipython3",
   "version": "3.9.1"
  }
 },
 "nbformat": 4,
 "nbformat_minor": 5
}
